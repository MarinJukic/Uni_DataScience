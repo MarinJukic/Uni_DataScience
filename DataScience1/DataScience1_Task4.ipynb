{
 "cells": [
  {
   "cell_type": "markdown",
   "metadata": {},
   "source": [
    "First we have to import the required libraries. Here we need the sklearn and the scipy library."
   ]
  },
  {
   "cell_type": "code",
   "execution_count": 12,
   "metadata": {},
   "outputs": [],
   "source": [
    "import numpy as np\n",
    "import matplotlib.pyplot as plt\n",
    "from sklearn.preprocessing import StandardScaler\n",
    "from sklearn.model_selection import train_test_split\n",
    "from sklearn.model_selection import cross_validate\n",
    "from sklearn.tree import DecisionTreeClassifier\n",
    "from sklearn.metrics import classification_report, confusion_matrix\n",
    "from scipy.io import loadmat"
   ]
  },
  {
   "cell_type": "markdown",
   "metadata": {},
   "source": [
    "Next we have to load our data so that we can work with it and also scale it afterwards."
   ]
  },
  {
   "cell_type": "code",
   "execution_count": 13,
   "metadata": {},
   "outputs": [
    {
     "name": "stderr",
     "output_type": "stream",
     "text": [
      "C:\\Program Files (x86)\\Microsoft Visual Studio\\Shared\\Anaconda3_64\\lib\\site-packages\\sklearn\\utils\\validation.py:475: DataConversionWarning: Data with input dtype uint8 was converted to float64 by StandardScaler.\n",
      "  warnings.warn(msg, DataConversionWarning)\n"
     ]
    }
   ],
   "source": [
    "scaler = StandardScaler()\n",
    "mnist = loadmat('.\\mnist-original.mat')\n",
    "mnist_data = mnist[\"data\"].T\n",
    "mnist_label = mnist[\"label\"][0]\n",
    "X = scaler.fit_transform(mnist_data)\n",
    "y = mnist_label"
   ]
  },
  {
   "cell_type": "markdown",
   "metadata": {},
   "source": [
    "Now we divide the data accordingly so that we have 10% test data and 90% training data."
   ]
  },
  {
   "cell_type": "code",
   "execution_count": 14,
   "metadata": {},
   "outputs": [],
   "source": [
    "X_train, X_test, y_train, y_test = train_test_split(X, y,train_size=0.9,test_size=0.1,random_state=23)"
   ]
  },
  {
   "cell_type": "markdown",
   "metadata": {},
   "source": [
    "Next we create a decision tree classifier and equip it with the training data. Then we train it with a 3-fold cross validation, after which we make a prediction with our classifier on our test data."
   ]
  },
  {
   "cell_type": "code",
   "execution_count": 15,
   "metadata": {},
   "outputs": [],
   "source": [
    "dtc = DecisionTreeClassifier(random_state=0)\n",
    "dtc.fit(X_train, y_train)\n",
    "\n",
    "cv_results = cross_validate(dtc, X_train, y_train, cv=3)\n",
    "\n",
    "y_pred = dtc.predict(X_test)"
   ]
  },
  {
   "cell_type": "markdown",
   "metadata": {},
   "source": [
    "Here we take 16 lines of our data set and visualize them using imshow."
   ]
  },
  {
   "cell_type": "code",
   "execution_count": 16,
   "metadata": {},
   "outputs": [],
   "source": [
    "def showInputData(X):\n",
    "    fig,axes = plt.subplots(nrows=4,ncols=4)\n",
    "    image_index = 0\n",
    "    for x in range(0,4): \n",
    "        for y in range(0,4):\n",
    "            axes[x,y].imshow(X[image_index].reshape(28,28))\n",
    "            axes[x,y].axis('off')\n",
    "            image_index+=1\n",
    "    plt.tight_layout()"
   ]
  },
  {
   "cell_type": "markdown",
   "metadata": {},
   "source": [
    "We then issue a report and a matrix.\n",
    "Support gives the number of true responses in the class. The precision indicates the precision and the f1-score indicates the weighted average of the presicion and the recall.\n",
    "You can say that the lower you go in the table, the lower the precision."
   ]
  },
  {
   "cell_type": "code",
   "execution_count": 17,
   "metadata": {},
   "outputs": [
    {
     "name": "stdout",
     "output_type": "stream",
     "text": [
      "             precision    recall  f1-score   support\n",
      "\n",
      "        0.0       0.93      0.93      0.93       722\n",
      "        1.0       0.93      0.96      0.94       789\n",
      "        2.0       0.88      0.87      0.87       697\n",
      "        3.0       0.85      0.84      0.85       718\n",
      "        4.0       0.88      0.90      0.89       700\n",
      "        5.0       0.82      0.83      0.83       639\n",
      "        6.0       0.91      0.92      0.91       687\n",
      "        7.0       0.91      0.92      0.91       715\n",
      "        8.0       0.83      0.78      0.80       669\n",
      "        9.0       0.84      0.83      0.83       664\n",
      "\n",
      "avg / total       0.88      0.88      0.88      7000\n",
      "\n",
      "[[673   2   6   9   3   9   9   3   5   3]\n",
      " [  0 761   5   4   1   6   2   2   7   1]\n",
      " [  9   7 604  18  13   3  16   6  19   2]\n",
      " [  5  10  15 602   3  30   3   9  27  14]\n",
      " [  4   2   5   1 632   4   6   8  11  27]\n",
      " [  9   8   6  30   6 530  13   3  18  16]\n",
      " [  8   4  11   2   5  11 633   1   8   4]\n",
      " [  2   4  13   9   5   5   1 655   6  15]\n",
      " [  6  20  16  21  17  23  11   8 525  22]\n",
      " [  7   4   7   9  32  22   3  22  10 548]]\n"
     ]
    }
   ],
   "source": [
    "print(classification_report(y_test, y_pred))\n",
    "print(confusion_matrix(y_test, y_pred))"
   ]
  },
  {
   "cell_type": "markdown",
   "metadata": {},
   "source": [
    "Here we call the function already defined above to visualize some data series from our initial data."
   ]
  },
  {
   "cell_type": "code",
   "execution_count": 18,
   "metadata": {},
   "outputs": [
    {
     "data": {
      "image/png": "[encoded data removed]",
      "text/plain": [
       "<Figure size 432x288 with 16 Axes>"
      ]
     },
     "metadata": {},
     "output_type": "display_data"
    }
   ],
   "source": [
    "showInputData(X)"
   ]
  },
  {
   "cell_type": "code",
   "execution_count": null,
   "metadata": {},
   "outputs": [],
   "source": []
  }
 ],
 "metadata": {
  "kernelspec": {
   "display_name": "Python 3",
   "language": "python",
   "name": "python3"
  },
  "language_info": {
   "codemirror_mode": {
    "name": "ipython",
    "version": 3
   },
   "file_extension": ".py",
   "mimetype": "text/x-python",
   "name": "python",
   "nbconvert_exporter": "python",
   "pygments_lexer": "ipython3",
   "version": "3.8.3"
  }
 },
 "nbformat": 4,
 "nbformat_minor": 2
}
