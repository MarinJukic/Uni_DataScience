{
 "cells": [
  {
   "cell_type": "code",
   "execution_count": 1,
   "metadata": {},
   "outputs": [],
   "source": [
    "import pandas as pd"
   ]
  },
  {
   "cell_type": "markdown",
   "metadata": {},
   "source": [
    "Just like in task 1, we load the data into a data frame again using read_table. Now we specify the file, the column header, the delimiter, and unlike in task 1 we specify how we handle missing data by using na_values na_values = ['?']. This says that missing data values are filled with a question mark."
   ]
  },
  {
   "cell_type": "code",
   "execution_count": 2,
   "metadata": {},
   "outputs": [
    {
     "name": "stdout",
     "output_type": "stream",
     "text": [
      "       Sepal-length  Sepal-width  Petal-length  Petal-width\n",
      "count    149.000000   149.000000    149.000000   148.000000\n",
      "mean       5.844295     3.052349      3.773826     1.213514\n",
      "std        0.830775     0.433026      1.760543     0.757426\n",
      "min        4.300000     2.000000      1.000000     0.100000\n",
      "25%        5.100000     2.800000      1.600000     0.300000\n",
      "50%        5.800000     3.000000      4.400000     1.300000\n",
      "75%        6.400000     3.300000      5.100000     1.800000\n",
      "max        7.900000     4.400000      6.900000     2.500000\n"
     ]
    }
   ],
   "source": [
    "columns = ['Sepal-length', 'Sepal-width', 'Petal-length', 'Petal-width', 'Class']\n",
    "path = '.\\data_someMissing.all'\n",
    "data = pd.read_table(path,names= columns, sep='\\s+',na_values=['?'],  header = None)\n",
    "print(data.describe())"
   ]
  },
  {
   "cell_type": "markdown",
   "metadata": {},
   "source": [
    "There are now several ways to deal with missing data. Either we ignore them, we delete the corresponding digits or we fill the corresponding digits with other values."
   ]
  },
  {
   "cell_type": "markdown",
   "metadata": {},
   "source": [
    "With dropna () we can remove the lines with the missing data from the data set. However, this changes the statistical values and this affects all columns."
   ]
  },
  {
   "cell_type": "code",
   "execution_count": 3,
   "metadata": {},
   "outputs": [
    {
     "name": "stdout",
     "output_type": "stream",
     "text": [
      "       Sepal-length  Sepal-width  Petal-length  Petal-width\n",
      "count    145.000000   145.000000    145.000000   145.000000\n",
      "mean       5.870345     3.043448      3.840000     1.233793\n",
      "std        0.821679     0.430732      1.737751     0.751685\n",
      "min        4.400000     2.000000      1.000000     0.100000\n",
      "25%        5.100000     2.800000      1.600000     0.400000\n",
      "50%        5.800000     3.000000      4.400000     1.300000\n",
      "75%        6.400000     3.300000      5.100000     1.800000\n",
      "max        7.900000     4.400000      6.900000     2.500000\n"
     ]
    }
   ],
   "source": [
    "cleaned = data.dropna()\n",
    "print(cleaned.describe())"
   ]
  },
  {
   "cell_type": "markdown",
   "metadata": {},
   "source": [
    "With fillna () we can write in other values where there is missing data. We can set any values or mean values, but this still affects the static values of the data set."
   ]
  },
  {
   "cell_type": "code",
   "execution_count": 4,
   "metadata": {},
   "outputs": [
    {
     "name": "stdout",
     "output_type": "stream",
     "text": [
      "       Sepal-length  Sepal-width  Petal-length  Petal-width\n",
      "count    150.000000   150.000000    150.000000   150.000000\n",
      "mean       5.812667     3.039333      3.756000     1.212000\n",
      "std        0.914117     0.460070      1.768155     0.752439\n",
      "min        1.100000     1.100000      1.000000     0.100000\n",
      "25%        5.100000     2.800000      1.600000     0.300000\n",
      "50%        5.800000     3.000000      4.350000     1.300000\n",
      "75%        6.400000     3.300000      5.100000     1.800000\n",
      "max        7.900000     4.400000      6.900000     2.500000\n"
     ]
    }
   ],
   "source": [
    "data_filling = data.fillna(1.1)\n",
    "print(data_filling.describe())"
   ]
  },
  {
   "cell_type": "markdown",
   "metadata": {},
   "source": [
    "So in the end we see, that is difficult to handle with missing data. Either way, the statistics of the original data changes."
   ]
  }
 ],
 "metadata": {
  "kernelspec": {
   "display_name": "Python 3",
   "language": "python",
   "name": "python3"
  },
  "language_info": {
   "codemirror_mode": {
    "name": "ipython",
    "version": 3
   },
   "file_extension": ".py",
   "mimetype": "text/x-python",
   "name": "python",
   "nbconvert_exporter": "python",
   "pygments_lexer": "ipython3",
   "version": "3.8.3"
  }
 },
 "nbformat": 4,
 "nbformat_minor": 2
}
